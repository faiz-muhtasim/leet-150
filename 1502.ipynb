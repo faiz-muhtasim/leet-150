{
  "nbformat": 4,
  "nbformat_minor": 0,
  "metadata": {
    "colab": {
      "provenance": [],
      "authorship_tag": "ABX9TyNGRLJRZ9XLItSgxQC/IAw6",
      "include_colab_link": true
    },
    "kernelspec": {
      "name": "python3",
      "display_name": "Python 3"
    },
    "language_info": {
      "name": "python"
    }
  },
  "cells": [
    {
      "cell_type": "markdown",
      "metadata": {
        "id": "view-in-github",
        "colab_type": "text"
      },
      "source": [
        "<a href=\"https://colab.research.google.com/github/faiz-muhtasim/leet-150/blob/main/1502.ipynb\" target=\"_parent\"><img src=\"https://colab.research.google.com/assets/colab-badge.svg\" alt=\"Open In Colab\"/></a>"
      ]
    },
    {
      "cell_type": "code",
      "execution_count": null,
      "metadata": {
        "colab": {
          "base_uri": "https://localhost:8080/"
        },
        "id": "PSBsuMgm1qGo",
        "outputId": "3c1e24bd-9dff-4f52-a160-a3bb1680664c"
      },
      "outputs": [
        {
          "output_type": "stream",
          "name": "stdout",
          "text": [
            "[0, 1, '_', '_', 3, 0, 4, '_'] 5\n"
          ]
        }
      ],
      "source": [
        "nums = [0,1,2,2,3,0,4,2]\n",
        "val = 2\n",
        "k = 0\n",
        "for i in range(len(nums)):\n",
        "    if nums[i] == val:\n",
        "        nums[i] = \"_\"\n",
        "    else:\n",
        "        k += 1\n",
        "\n",
        "print(nums, k)"
      ]
    },
    {
      "cell_type": "code",
      "source": [
        "def swap(arr, i, j):\n",
        "    arr[i], arr[j] = arr[j], arr[i]\n",
        "    return arr"
      ],
      "metadata": {
        "id": "BWVEcTK6eY3C"
      },
      "execution_count": null,
      "outputs": []
    },
    {
      "cell_type": "code",
      "source": [
        "nums = [0, 1, '_', '_', 3, 0, 4, '_']\n",
        "x = 0\n",
        "for i in range(len(nums)):\n",
        "    if x == i and nums[i] != \"_\":\n",
        "        x += 1\n",
        "    if x < i and nums[i] != \"_\":\n",
        "        nums = swap(nums, i, x)\n",
        "        # if i - x == 1:\n",
        "        #     x = i\n",
        "        # else: x += 1\n",
        "        x += 1\n",
        "print(nums)"
      ],
      "metadata": {
        "colab": {
          "base_uri": "https://localhost:8080/"
        },
        "id": "oPV8-MeeTz_Y",
        "outputId": "c558c926-2515-4d76-8ec5-296ec0ad5849"
      },
      "execution_count": null,
      "outputs": [
        {
          "output_type": "stream",
          "name": "stdout",
          "text": [
            "[0, 1, 3, 0, 4, '_', '_', '_']\n"
          ]
        }
      ]
    }
  ]
}