{
  "nbformat": 4,
  "nbformat_minor": 0,
  "metadata": {
    "colab": {
      "provenance": [],
      "authorship_tag": "ABX9TyM1QRv2hqfBMcRVEEnGtfkj",
      "include_colab_link": true
    },
    "kernelspec": {
      "name": "python3",
      "display_name": "Python 3"
    },
    "language_info": {
      "name": "python"
    }
  },
  "cells": [
    {
      "cell_type": "markdown",
      "metadata": {
        "id": "view-in-github",
        "colab_type": "text"
      },
      "source": [
        "<a href=\"https://colab.research.google.com/github/faiz-muhtasim/leet-150/blob/main/1509.ipynb\" target=\"_parent\"><img src=\"https://colab.research.google.com/assets/colab-badge.svg\" alt=\"Open In Colab\"/></a>"
      ]
    },
    {
      "cell_type": "code",
      "source": [
        "#approach zero na thakle direct true\n",
        "#first ei zero thakle direct false\n",
        "#zero thakle ekdom last er zero theke check kora shuru korbo\n",
        "# last er zero (array er left most) jei elemet cross korte parbe, er aage kono zero thakle abar check\n",
        "# [1,1,2,0,2,4,1,1,0,1,4]"
      ],
      "metadata": {
        "id": "j_4CunVOGXqN"
      },
      "execution_count": null,
      "outputs": []
    },
    {
      "cell_type": "code",
      "execution_count": null,
      "metadata": {
        "id": "p1xpGCON1qv8"
      },
      "outputs": [],
      "source": [
        "# Test cases\n",
        "nums = [3,2,1,2,0,1,4] # true\n",
        "nums = [3,2,1,2,0,0,1,4] # false\n",
        "nums = [1,2,0,3,0,0,1,1,10] # true vvi\n",
        "numa = [1,1,2,0,2,4,1,1,0,1,4]"
      ]
    },
    {
      "cell_type": "code",
      "source": [
        "nums = [1,0,1,1,4]#[2,0,0]\n",
        "\n",
        "for i in range(len(nums)-1):\n",
        "    if nums[i] >= len(nums[i+1::]):\n",
        "        print(True, nums[i], nums[i::])\n",
        "\n",
        "\n",
        "# jei code ta likhsi oita dekhe existing index theke possible kina\n",
        "# oita kajer na karon [1,1,1,1,4] false ashbe"
      ],
      "metadata": {
        "colab": {
          "base_uri": "https://localhost:8080/"
        },
        "id": "1H5e5I4Q7lpo",
        "outputId": "a75cfc4c-67cc-4e30-92a8-064638f61d98"
      },
      "execution_count": null,
      "outputs": [
        {
          "output_type": "stream",
          "name": "stdout",
          "text": [
            "True 1 [1, 4]\n"
          ]
        }
      ]
    },
    {
      "cell_type": "code",
      "source": [
        "nums = [1,1,1,1,0,0] # false\n",
        "nums = [1,1,1,2,0,1,0] # true\n",
        "dic = {}\n",
        "if 0 not in nums:\n",
        "    print(True)\n",
        "else:\n",
        "    pass\n",
        "    # amake check korete hbe 0 er just aager ta 2 or greater kina and so on\n",
        "    for i in range(len(nums)-1):\n",
        "        if nums[i] != 0:\n",
        "            dic[str(i)] = nums[i]\n",
        "print(dic)"
      ],
      "metadata": {
        "colab": {
          "base_uri": "https://localhost:8080/"
        },
        "id": "0ljECKkj-Ana",
        "outputId": "b831de71-9653-4bb9-d60f-6385e3f6b8e4"
      },
      "execution_count": null,
      "outputs": [
        {
          "output_type": "stream",
          "name": "stdout",
          "text": [
            "{'0': 1, '1': 1, '2': 1, '3': 2, '5': 1}\n"
          ]
        }
      ]
    },
    {
      "cell_type": "code",
      "source": [
        "# r ekta approach hochhe capaity check kora.\n",
        "# ekta variable rakhbo capacity, okhane extra jump capacity rakhbo and will check j paar kore jawa possible kina\n",
        "nums = [3,2,1,2,0,1,4]\n",
        "capacity = 0\n",
        "for i in range(len(nums)-1):\n",
        "    capacity = nums[i]\n",
        "    capacity -= 1"
      ],
      "metadata": {
        "id": "756fqU0q-5eD"
      },
      "execution_count": null,
      "outputs": []
    },
    {
      "cell_type": "code",
      "source": [
        "# last zero tar index lagbe jodi onek gula thake\n",
        "# but check korbo shudhu last er zero ta topkano jaay kin\n",
        "nums = [6,5,2,1,0,1,4]\n",
        "temp = []\n",
        "def lzi(arr):\n",
        "    for i in range(len(arr)-1,-1,-1):\n",
        "        if arr[i] == 0:\n",
        "            return i\n",
        "zero_idx = lzi(nums)\n",
        "last_idx = 0\n",
        "x = 2\n",
        "flag = \"impossible\"\n",
        "for i in range(zero_idx-1,-1,-1):\n",
        "    if nums[i] >= x:\n",
        "        flag = \"possible\"\n",
        "        last_idx = i\n",
        "        break\n",
        "    else:\n",
        "        x += 1\n",
        "print(flag, nums[last_idx])\n",
        "# sudhu last zero er jonno check korsi, ekhon mone hochhe shob zero er jonno kora lagbe,\n",
        "# karon last zero porjonto jaite parbe naki jani na\n",
        "# first theke shob zero check kora lagbe karon last zero porjonto na o jaite pare, shurur zero\n",
        "# abar last er zero korleo hoy, jodi onno zero gula auto utray jaay [3,2,1,3,0,0,1,4]\n",
        "# last er zero last jei elem diye utrab okhan diye abar check kora lagbe like [1,2,0,3,0,0,1,1,10]"
      ],
      "metadata": {
        "colab": {
          "base_uri": "https://localhost:8080/"
        },
        "id": "1jt_FkSMAbz3",
        "outputId": "56472e87-cb41-411a-b866-581bba6bf3bc"
      },
      "execution_count": null,
      "outputs": [
        {
          "output_type": "stream",
          "name": "stdout",
          "text": [
            "possible 5\n"
          ]
        }
      ]
    },
    {
      "cell_type": "code",
      "source": [
        "def zero_check(arr):\n",
        "\n",
        "    def lzi(arr):\n",
        "        for i in range(len(arr)-1,-1,-1):\n",
        "            if arr[i] == 0:\n",
        "                return i\n",
        "\n",
        "    zero_idx = lzi(nums)\n",
        "    last_idx = 0\n",
        "    x = 2\n",
        "    flag = \"impossible\"\n",
        "    for i in range(zero_idx-1,-1,-1):\n",
        "        if nums[i] >= x:\n",
        "            flag = \"possible\"\n",
        "            last_idx = i\n",
        "            break\n",
        "        else:\n",
        "            x += 1\n",
        "    if flag == \"impossible\":\n",
        "        return (False, last_idx)"
      ],
      "metadata": {
        "id": "hhfgNrCfNeoA"
      },
      "execution_count": null,
      "outputs": []
    },
    {
      "cell_type": "code",
      "source": [
        "nums = [1,1,2,0,2,4,1,1,0,1,4]\n",
        "\n",
        "if 0 not in nums:\n",
        "    print(True)\n",
        "elif nums[0] == 0:\n",
        "    print(False)\n",
        "else:\n",
        "    for i in range(len(nums)-1):\n",
        "        if i == 0:\n",
        "            temp = zero_check(nums[:i+1])\n",
        "            if temp[0] == False:\n",
        "                print(False)\n",
        "                break"
      ],
      "metadata": {
        "colab": {
          "base_uri": "https://localhost:8080/",
          "height": 211
        },
        "id": "p-bfkxRxPsSS",
        "outputId": "cde0bdaa-39d8-4499-80e5-02869e4c06dd"
      },
      "execution_count": null,
      "outputs": [
        {
          "output_type": "error",
          "ename": "TypeError",
          "evalue": "'NoneType' object is not subscriptable",
          "traceback": [
            "\u001b[0;31m---------------------------------------------------------------------------\u001b[0m",
            "\u001b[0;31mTypeError\u001b[0m                                 Traceback (most recent call last)",
            "\u001b[0;32m<ipython-input-48-f47ad6eeedd3>\u001b[0m in \u001b[0;36m<cell line: 0>\u001b[0;34m()\u001b[0m\n\u001b[1;32m      9\u001b[0m         \u001b[0;32mif\u001b[0m \u001b[0mi\u001b[0m \u001b[0;34m==\u001b[0m \u001b[0;36m0\u001b[0m\u001b[0;34m:\u001b[0m\u001b[0;34m\u001b[0m\u001b[0;34m\u001b[0m\u001b[0m\n\u001b[1;32m     10\u001b[0m             \u001b[0mtemp\u001b[0m \u001b[0;34m=\u001b[0m \u001b[0mzero_check\u001b[0m\u001b[0;34m(\u001b[0m\u001b[0mnums\u001b[0m\u001b[0;34m[\u001b[0m\u001b[0;34m:\u001b[0m\u001b[0mi\u001b[0m\u001b[0;34m+\u001b[0m\u001b[0;36m1\u001b[0m\u001b[0;34m]\u001b[0m\u001b[0;34m)\u001b[0m\u001b[0;34m\u001b[0m\u001b[0;34m\u001b[0m\u001b[0m\n\u001b[0;32m---> 11\u001b[0;31m             \u001b[0;32mif\u001b[0m \u001b[0mtemp\u001b[0m\u001b[0;34m[\u001b[0m\u001b[0;36m0\u001b[0m\u001b[0;34m]\u001b[0m \u001b[0;34m==\u001b[0m \u001b[0;32mFalse\u001b[0m\u001b[0;34m:\u001b[0m\u001b[0;34m\u001b[0m\u001b[0;34m\u001b[0m\u001b[0m\n\u001b[0m\u001b[1;32m     12\u001b[0m                 \u001b[0mprint\u001b[0m\u001b[0;34m(\u001b[0m\u001b[0;32mFalse\u001b[0m\u001b[0;34m)\u001b[0m\u001b[0;34m\u001b[0m\u001b[0;34m\u001b[0m\u001b[0m\n\u001b[1;32m     13\u001b[0m                 \u001b[0;32mbreak\u001b[0m\u001b[0;34m\u001b[0m\u001b[0;34m\u001b[0m\u001b[0m\n",
            "\u001b[0;31mTypeError\u001b[0m: 'NoneType' object is not subscriptable"
          ]
        }
      ]
    },
    {
      "cell_type": "code",
      "source": [
        "def check(nums, zero_idx):\n",
        "\n",
        "    x = 2\n",
        "    flag = \"impossible\"\n",
        "    for i in range(zero_idx-1,-1,-1):\n",
        "        if nums[i] >= x:\n",
        "            flag = \"possible\"\n",
        "            break\n",
        "        else:\n",
        "            x += 1\n",
        "\n",
        "    return flag\n",
        "\n",
        "\n",
        "def lzi(arr, temp = []):\n",
        "    for i in range(len(arr)-2,-1,-1):\n",
        "        if arr[i] == 0:\n",
        "            temp.append(i)\n",
        "    #print(temp)\n",
        "\n",
        "    for i in range(len(temp)):\n",
        "        res = check(arr, temp[i])\n",
        "        if res == \"impossible\":\n",
        "            return False\n",
        "        else:\n",
        "            continue\n",
        "        return True\n",
        "\n",
        "lzi([2,0,0])"
      ],
      "metadata": {
        "id": "QlbXsAkaxgIa"
      },
      "execution_count": null,
      "outputs": []
    },
    {
      "cell_type": "code",
      "source": [
        "class Solution:\n",
        "    def canJump(nums):\n",
        "\n",
        "        def check(nums, zero_idx):\n",
        "\n",
        "            x = 2\n",
        "            flag = \"impossible\"\n",
        "            for i in range(zero_idx-1,-1,-1):\n",
        "                if nums[i] >= x:\n",
        "                    flag = \"possible\"\n",
        "                    break\n",
        "                else:\n",
        "                    x += 1\n",
        "\n",
        "            return flag\n",
        "\n",
        "        temp = []\n",
        "        for i in range(len(nums)-2,-1,-1):\n",
        "            if nums[i] == 0:\n",
        "                temp.append(i)\n",
        "        if temp == [] or len(nums) == 1:\n",
        "            return True\n",
        "        elif nums[0] == 0:\n",
        "            return False\n",
        "        else:\n",
        "            for i in range(len(temp)):\n",
        "                res = check(nums, temp[i])\n",
        "                if res == \"impossible\":\n",
        "                    return False\n",
        "                else:\n",
        "                    continue\n",
        "            return True\n",
        "\n",
        "Solution.canJump([2,0,0])\n",
        "\n",
        "# ACCEPTED WITH GOOD RUNTIME BUT EKTU REDUNDENCY ACHE\n",
        "# ekta zero utrano element r oi zero er moddher zero dekhar drkr nai (but dekhtes)"
      ],
      "metadata": {
        "colab": {
          "base_uri": "https://localhost:8080/"
        },
        "id": "HJHTvkmg8VzJ",
        "outputId": "76ac3ae5-4279-4100-e842-778b2921ec6e"
      },
      "execution_count": null,
      "outputs": [
        {
          "output_type": "execute_result",
          "data": {
            "text/plain": [
              "True"
            ]
          },
          "metadata": {},
          "execution_count": 36
        }
      ]
    }
  ]
}