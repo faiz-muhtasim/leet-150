{
  "nbformat": 4,
  "nbformat_minor": 0,
  "metadata": {
    "colab": {
      "provenance": [],
      "authorship_tag": "ABX9TyODudDVuz3bnBvX0g4pnVBE",
      "include_colab_link": true
    },
    "kernelspec": {
      "name": "python3",
      "display_name": "Python 3"
    },
    "language_info": {
      "name": "python"
    }
  },
  "cells": [
    {
      "cell_type": "markdown",
      "metadata": {
        "id": "view-in-github",
        "colab_type": "text"
      },
      "source": [
        "<a href=\"https://colab.research.google.com/github/faiz-muhtasim/leet-150/blob/main/1506.ipynb\" target=\"_parent\"><img src=\"https://colab.research.google.com/assets/colab-badge.svg\" alt=\"Open In Colab\"/></a>"
      ]
    },
    {
      "cell_type": "code",
      "source": [
        "def right_shift(arr):\n",
        "    temp = arr[len(arr)-1]\n",
        "    for i in range(len(arr)-1,0,-1):\n",
        "        arr[i] = arr[i-1]\n",
        "    arr[0] = temp\n",
        "    return (arr)\n"
      ],
      "metadata": {
        "id": "MQ9lqJlUCm7T"
      },
      "execution_count": null,
      "outputs": []
    },
    {
      "cell_type": "code",
      "source": [
        "nums = [1,2]\n",
        "\n",
        "nums[:] = nums[-3::]+nums[0:-3:]\n",
        "print(nums)\n",
        "\n",
        "# for i in range(3):\n",
        "#     nums = right_shift(nums)\n",
        "# print(nums)\n"
      ],
      "metadata": {
        "colab": {
          "base_uri": "https://localhost:8080/"
        },
        "id": "gy8Pv4oKE8KX",
        "outputId": "cfd2828f-443d-42c4-f2cd-f37265dd4e48"
      },
      "execution_count": null,
      "outputs": [
        {
          "output_type": "stream",
          "name": "stdout",
          "text": [
            "[1, 2]\n"
          ]
        }
      ]
    },
    {
      "cell_type": "code",
      "source": [
        "5%21"
      ],
      "metadata": {
        "colab": {
          "base_uri": "https://localhost:8080/"
        },
        "id": "ZO36GujyNKhV",
        "outputId": "e7f9e4b9-3bdc-4082-9aa0-2ad6afc79fe7"
      },
      "execution_count": null,
      "outputs": [
        {
          "output_type": "execute_result",
          "data": {
            "text/plain": [
              "5"
            ]
          },
          "metadata": {},
          "execution_count": 50
        }
      ]
    }
  ]
}