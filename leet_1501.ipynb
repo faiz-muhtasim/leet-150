{
  "nbformat": 4,
  "nbformat_minor": 0,
  "metadata": {
    "colab": {
      "provenance": [],
      "authorship_tag": "ABX9TyPxKVSiplIzqDA50B5UgNlr",
      "include_colab_link": true
    },
    "kernelspec": {
      "name": "python3",
      "display_name": "Python 3"
    },
    "language_info": {
      "name": "python"
    }
  },
  "cells": [
    {
      "cell_type": "markdown",
      "metadata": {
        "id": "view-in-github",
        "colab_type": "text"
      },
      "source": [
        "<a href=\"https://colab.research.google.com/github/faiz-muhtasim/leet-150/blob/main/leet_1501.ipynb\" target=\"_parent\"><img src=\"https://colab.research.google.com/assets/colab-badge.svg\" alt=\"Open In Colab\"/></a>"
      ]
    },
    {
      "cell_type": "code",
      "source": [
        "def right_shift(start_index, array, num):\n",
        "    for i in range(len(array)-1,start_index,-1):\n",
        "        array[i] = array[i-1]\n",
        "    array[start_index] = num\n",
        "    return array\n",
        "\n",
        "print(right_shift(1,[1,3,5,0,0],2))"
      ],
      "metadata": {
        "colab": {
          "base_uri": "https://localhost:8080/"
        },
        "id": "aqFIuxWTTPqB",
        "outputId": "f4ca0c61-5bca-4391-ca77-29a638200f32"
      },
      "execution_count": null,
      "outputs": [
        {
          "output_type": "stream",
          "name": "stdout",
          "text": [
            "[1, 2, 3, 5, 0]\n"
          ]
        }
      ]
    },
    {
      "cell_type": "code",
      "source": [
        "def merge(nums1, nums2, m = 3):\n",
        "    x = 0\n",
        "    while nums2:\n",
        "        if (nums1[x] > nums2[0] or x >= m) and x < len(nums1):\n",
        "            right_shift(x, nums1, nums2[0])\n",
        "            nums2.remove(nums2[0])\n",
        "            x += 1\n",
        "            m += 1\n",
        "\n",
        "        elif nums1[x] <= nums2[0] and x < len(nums1):\n",
        "            x += 1\n",
        "\n",
        "    print(nums1)\n",
        "\n",
        "merge([1,2,3,0,0,0], [2,5,6])"
      ],
      "metadata": {
        "colab": {
          "base_uri": "https://localhost:8080/"
        },
        "id": "M4a6mQSoz52K",
        "outputId": "2385789e-4409-4398-9feb-9e28c46e54f0"
      },
      "execution_count": null,
      "outputs": [
        {
          "output_type": "stream",
          "name": "stdout",
          "text": [
            "[1, 2, 2, 3, 5, 6]\n"
          ]
        }
      ]
    },
    {
      "cell_type": "code",
      "source": [
        "def merge(nums1, nums2, m):\n",
        "    x = 0\n",
        "    for i in range(m,len(nums1)):\n",
        "        nums1[i] = nums2[x]\n",
        "        x += 1\n",
        "    print(nums1)\n",
        "\n",
        "merge([1,2,3,0,0,0,0], [1,99,34,26], 3)"
      ],
      "metadata": {
        "colab": {
          "base_uri": "https://localhost:8080/"
        },
        "id": "DzMFGa-UYz47",
        "outputId": "3c238353-bd98-4a3e-c66c-c0bb06f87a50"
      },
      "execution_count": null,
      "outputs": [
        {
          "output_type": "stream",
          "name": "stdout",
          "text": [
            "[1, 2, 3, 1, 99, 34, 26]\n"
          ]
        }
      ]
    },
    {
      "cell_type": "code",
      "source": [
        "def merge_sort(arr):\n",
        "    # Base case: if array has 0 or 1 elements, it's already sorted\n",
        "    if len(arr) <= 1:\n",
        "        return arr\n",
        "\n",
        "    # Divide the array into two halves\n",
        "    mid = len(arr) // 2\n",
        "    left_half = arr[:mid]\n",
        "    right_half = arr[mid:]\n",
        "\n",
        "    # Recursively sort both halves\n",
        "    left_half = merge_sort(left_half)\n",
        "    right_half = merge_sort(right_half)\n",
        "\n",
        "    # Merge the sorted halves\n",
        "    return merge(left_half, right_half)\n",
        "\n",
        "def merge(left, right):\n",
        "    result = []\n",
        "    i = j = 0\n",
        "\n",
        "    # Compare elements from both arrays and add the smaller one to result\n",
        "    while i < len(left) and j < len(right):\n",
        "        if left[i] <= right[j]:\n",
        "            result.append(left[i])\n",
        "            i += 1\n",
        "        else:\n",
        "            result.append(right[j])\n",
        "            j += 1\n",
        "\n",
        "    # Add any remaining elements\n",
        "    result.extend(left[i:])\n",
        "    result.extend(right[j:])\n",
        "\n",
        "    return result"
      ],
      "metadata": {
        "id": "EGEqzgw3aKi2"
      },
      "execution_count": null,
      "outputs": []
    },
    {
      "cell_type": "code",
      "source": [
        "def merge_sort(arr):\n",
        "    # Base case: if array has 0 or 1 elements, it's already sorted\n",
        "    if len(arr) <= 1:\n",
        "        return arr\n",
        "\n",
        "    # Divide the array into two halves\n",
        "    mid = len(arr) // 2\n",
        "    left_half = arr[:mid]\n",
        "    right_half = arr[mid:]\n",
        "\n",
        "    # Recursively sort both halves\n",
        "    left_half = merge_sort(left_half)\n",
        "    right_half = merge_sort(right_half)\n",
        "\n",
        "    # Merge the sorted halves\n",
        "    return merge(left_half, right_half)\n",
        "\n",
        "def merge(left, right):\n",
        "    result = []\n",
        "    i = j = 0\n",
        "\n",
        "    # Compare elements from both arrays and add the smaller one to result\n",
        "    while i < len(left) and j < len(right):\n",
        "        if left[i] <= right[j]:\n",
        "            result.append(left[i])\n",
        "            i += 1\n",
        "        else:\n",
        "            result.append(right[j])\n",
        "            j += 1\n",
        "\n",
        "    # Add any remaining elements\n",
        "    result.extend(left[i:])\n",
        "    result.extend(right[j:])\n",
        "\n",
        "    return result\n",
        "\n",
        "def merge1(nums1, nums2, m):\n",
        "    x = 0\n",
        "    for i in range(m,len(nums1)):\n",
        "        nums1[i] = nums2[x]\n",
        "        x += 1\n",
        "    nums1 = merge_sort(nums1)\n",
        "    print(nums1)\n",
        "\n",
        "merge1([1,2,3,0,0,0], [2,5,6], 3)"
      ],
      "metadata": {
        "colab": {
          "base_uri": "https://localhost:8080/"
        },
        "id": "pnucPydubr6i",
        "outputId": "89e25baa-8cea-447b-f83a-7d1e3c819a09"
      },
      "execution_count": null,
      "outputs": [
        {
          "output_type": "stream",
          "name": "stdout",
          "text": [
            "[1, 2, 2, 3, 5, 6]\n"
          ]
        }
      ]
    },
    {
      "cell_type": "code",
      "source": [
        "class Solution:\n",
        "\n",
        "    def merge(nums1,m,nums2, n):\n",
        "        def merge_sort(arr):\n",
        "            # Base case: if array has 0 or 1 elements, it's already sorted\n",
        "            if len(arr) <= 1:\n",
        "                return arr\n",
        "\n",
        "            # Divide the array into two halves\n",
        "            mid = len(arr) // 2\n",
        "            left_half = arr[:mid]\n",
        "            right_half = arr[mid:]\n",
        "\n",
        "            # Recursively sort both halves\n",
        "            left_half = merge_sort(left_half)\n",
        "            right_half = merge_sort(right_half)\n",
        "\n",
        "            # Merge the sorted halves\n",
        "            return merge(left_half, right_half)\n",
        "\n",
        "        def merge(left, right):\n",
        "            result = []\n",
        "            i = j = 0\n",
        "\n",
        "            # Compare elements from both arrays and add the smaller one to result\n",
        "            while i < len(left) and j < len(right):\n",
        "                if left[i] <= right[j]:\n",
        "                    result.append(left[i])\n",
        "                    i += 1\n",
        "                else:\n",
        "                    result.append(right[j])\n",
        "                    j += 1\n",
        "\n",
        "            # Add any remaining elements\n",
        "            result.extend(left[i:])\n",
        "            result.extend(right[j:])\n",
        "\n",
        "            return result\n",
        "        x = 0\n",
        "        for i in range(m,len(nums1)):\n",
        "            nums1[i] = nums2[x]\n",
        "            x += 1\n",
        "        nums1 = merge_sort(nums1)\n",
        "        print(nums1)\n",
        "Solution.merge([1,2,3,0,0,0], 3, [2,5,6], 3)"
      ],
      "metadata": {
        "colab": {
          "base_uri": "https://localhost:8080/"
        },
        "id": "Fbgcp9RDHD3G",
        "outputId": "9fac1c77-e2ba-4dfc-b2c4-3a39d1330929"
      },
      "execution_count": null,
      "outputs": [
        {
          "output_type": "stream",
          "name": "stdout",
          "text": [
            "[1, 2, 2, 3, 5, 6]\n"
          ]
        }
      ]
    },
    {
      "cell_type": "code",
      "source": [],
      "metadata": {
        "id": "BfDYqzeT1jb1"
      },
      "execution_count": null,
      "outputs": []
    }
  ]
}