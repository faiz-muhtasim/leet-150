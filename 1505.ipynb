{
  "nbformat": 4,
  "nbformat_minor": 0,
  "metadata": {
    "colab": {
      "provenance": [],
      "authorship_tag": "ABX9TyMRo4zcRMJuj1vT7OXCfjEn",
      "include_colab_link": true
    },
    "kernelspec": {
      "name": "python3",
      "display_name": "Python 3"
    },
    "language_info": {
      "name": "python"
    }
  },
  "cells": [
    {
      "cell_type": "markdown",
      "metadata": {
        "id": "view-in-github",
        "colab_type": "text"
      },
      "source": [
        "<a href=\"https://colab.research.google.com/github/faiz-muhtasim/leet-150/blob/main/1505.ipynb\" target=\"_parent\"><img src=\"https://colab.research.google.com/assets/colab-badge.svg\" alt=\"Open In Colab\"/></a>"
      ]
    },
    {
      "cell_type": "code",
      "source": [
        "def merge_sort(arr):\n",
        "\n",
        "    if len(arr) <= 1:\n",
        "        return arr\n",
        "\n",
        "    # Divide the array into two halves\n",
        "    mid = len(arr) // 2\n",
        "    left_half = arr[:mid]\n",
        "    right_half = arr[mid:]\n",
        "\n",
        "    # Recursively sort both halves\n",
        "    left_half = merge_sort(left_half)\n",
        "    right_half = merge_sort(right_half)\n",
        "\n",
        "    # Merge the sorted halves\n",
        "    return merge(left_half, right_half)\n",
        "\n",
        "def merge(left, right):\n",
        "\n",
        "    result = []\n",
        "    left_idx, right_idx = 0, 0\n",
        "\n",
        "    # Compare elements from both lists and add the smaller one to the result\n",
        "    while left_idx < len(left) and right_idx < len(right):\n",
        "        if left[left_idx] <= right[right_idx]:\n",
        "            result.append(left[left_idx])\n",
        "            left_idx += 1\n",
        "        else:\n",
        "            result.append(right[right_idx])\n",
        "            right_idx += 1\n",
        "\n",
        "    # Add any remaining elements from both lists\n",
        "    # (only one of these will have elements remaining)\n",
        "    result.extend(left[left_idx:])\n",
        "    result.extend(right[right_idx:])\n",
        "\n",
        "    return result\n",
        "\n",
        "# Example usage\n",
        "def test_merge_sort():\n",
        "    # Test with different inputs\n",
        "    test_cases = [\n",
        "        [5, 2, 4, 7, 1, 3, 2, 6],\n",
        "        [9, 8, 7, 6, 5, 4, 3, 2, 1],\n",
        "        [1, 2, 3, 4, 5],\n",
        "        [5],\n",
        "        [],\n",
        "        [3, 1, 4, 1, 5, 9, 2, 6, 5, 3, 5]\n",
        "    ]\n",
        "\n",
        "    for arr in test_cases:\n",
        "        sorted_arr = merge_sort(arr)\n",
        "        print(f\"Original: {arr}\")\n",
        "        print(f\"Sorted:   {sorted_arr}\")\n",
        "        print()"
      ],
      "metadata": {
        "id": "7wYzns_u4iHR"
      },
      "execution_count": null,
      "outputs": []
    },
    {
      "cell_type": "code",
      "execution_count": null,
      "metadata": {
        "colab": {
          "base_uri": "https://localhost:8080/"
        },
        "id": "ZGW-ZqHctJXw",
        "outputId": "c3c39434-8638-4d22-9ba6-62b41ccbba68"
      },
      "outputs": [
        {
          "output_type": "stream",
          "name": "stdout",
          "text": [
            "{'2': 4, '1': 3} 2\n"
          ]
        }
      ],
      "source": [
        "nums = [2,2,1,1,1,2,2]\n",
        "dic = {}\n",
        "for i in nums:\n",
        "    if str(i) not in dic:\n",
        "        dic[str(i)] = 1\n",
        "    else:\n",
        "        dic[str(i)] += 1\n",
        "max_v = 0\n",
        "max_k = \"\"\n",
        "for k,v in dic.items():\n",
        "    if v > max_v:\n",
        "        max_v = v\n",
        "        max_k = k\n",
        "\n",
        "print(dic, max_k)"
      ]
    },
    {
      "cell_type": "code",
      "source": [
        "nums = [2,2,1,1,1,2,2]\n",
        "nums = merge_sort(nums)\n",
        "print(nums[len(nums)//2])"
      ],
      "metadata": {
        "colab": {
          "base_uri": "https://localhost:8080/"
        },
        "id": "IPMo-jTm4n1q",
        "outputId": "6074fad7-67ed-4cb2-cb9a-004fe59e600d"
      },
      "execution_count": null,
      "outputs": [
        {
          "output_type": "stream",
          "name": "stdout",
          "text": [
            "2\n"
          ]
        }
      ]
    }
  ]
}