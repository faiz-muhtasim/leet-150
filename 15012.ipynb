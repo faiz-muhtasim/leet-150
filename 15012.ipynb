{
  "nbformat": 4,
  "nbformat_minor": 0,
  "metadata": {
    "colab": {
      "provenance": [],
      "authorship_tag": "ABX9TyOhkZ79hS61eVlPC1I8FNYY",
      "include_colab_link": true
    },
    "kernelspec": {
      "name": "python3",
      "display_name": "Python 3"
    },
    "language_info": {
      "name": "python"
    }
  },
  "cells": [
    {
      "cell_type": "markdown",
      "metadata": {
        "id": "view-in-github",
        "colab_type": "text"
      },
      "source": [
        "<a href=\"https://colab.research.google.com/github/faiz-muhtasim/leet-150/blob/main/15012.ipynb\" target=\"_parent\"><img src=\"https://colab.research.google.com/assets/colab-badge.svg\" alt=\"Open In Colab\"/></a>"
      ]
    },
    {
      "cell_type": "code",
      "execution_count": null,
      "metadata": {
        "id": "UPy01024xHfS"
      },
      "outputs": [],
      "source": [
        "class RandomizedSet:\n",
        "\n",
        "    def __init__(self):\n",
        "        self.arr = []\n",
        "\n",
        "    def insert(self, val: int) -> bool:\n",
        "        if val not in self.arr:\n",
        "            self.arr.append(val)\n",
        "            return True\n",
        "        return False\n",
        "\n",
        "    def remove(self, val: int) -> bool:\n",
        "        if val in self.arr:\n",
        "            self.arr.remove(val)\n",
        "            return True\n",
        "        return False\n",
        "\n",
        "    def getRandom(self) -> int:\n",
        "        import random\n",
        "        x = random.randint(0,len(self.arr)-1)\n",
        "        return self.arr[x]\n",
        "\n",
        "\n",
        "\n",
        "# Your RandomizedSet object will be instantiated and called as such:\n",
        "obj = RandomizedSet()\n",
        "param_1 = obj.insert(1)\n",
        "param_2 = obj.remove(0)\n",
        "param_3 = obj.getRandom()"
      ]
    },
    {
      "cell_type": "code",
      "source": [
        "import random\n",
        "arr = [1,2,4]\n",
        "\n",
        "x = random.randint(0,0)\n",
        "print(arr[x])"
      ],
      "metadata": {
        "colab": {
          "base_uri": "https://localhost:8080/"
        },
        "id": "FjKTIUEp0Xsg",
        "outputId": "1fc5e560-7a0c-4cab-96e8-40dd8f8d33ce"
      },
      "execution_count": null,
      "outputs": [
        {
          "output_type": "stream",
          "name": "stdout",
          "text": [
            "1\n"
          ]
        }
      ]
    }
  ]
}