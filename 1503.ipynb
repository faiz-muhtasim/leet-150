{
  "nbformat": 4,
  "nbformat_minor": 0,
  "metadata": {
    "colab": {
      "provenance": [],
      "authorship_tag": "ABX9TyPd2/f0C/zyMJqvxxxlWSPt",
      "include_colab_link": true
    },
    "kernelspec": {
      "name": "python3",
      "display_name": "Python 3"
    },
    "language_info": {
      "name": "python"
    }
  },
  "cells": [
    {
      "cell_type": "markdown",
      "metadata": {
        "id": "view-in-github",
        "colab_type": "text"
      },
      "source": [
        "<a href=\"https://colab.research.google.com/github/faiz-muhtasim/leet-150/blob/main/1503.ipynb\" target=\"_parent\"><img src=\"https://colab.research.google.com/assets/colab-badge.svg\" alt=\"Open In Colab\"/></a>"
      ]
    },
    {
      "cell_type": "code",
      "execution_count": null,
      "metadata": {
        "colab": {
          "base_uri": "https://localhost:8080/"
        },
        "id": "_XEcy5RMY3CQ",
        "outputId": "5546a8b5-d043-412b-bbef-5f8c8d12062d"
      },
      "outputs": [
        {
          "output_type": "stream",
          "name": "stdout",
          "text": [
            "[-1, '_'] 1\n"
          ]
        }
      ],
      "source": [
        "nums = [-1,-1]\n",
        "k = 1\n",
        "for i in range(len(nums)-1):\n",
        "    if nums[i] == nums[i+1]: nums[i] = \"_\"\n",
        "    else: k += 1\n",
        "def swap(arr,x,i):\n",
        "    arr[x], arr[i] = arr[i], arr[x]\n",
        "    return arr\n",
        "x = 0\n",
        "for i in range(len(nums)):\n",
        "    if x == i and nums[i] != \"_\":\n",
        "        x += 1\n",
        "    if x < i and nums[i] != \"_\":\n",
        "        nums = swap(nums,x,i)\n",
        "        x += 1\n",
        "print(nums,k)"
      ]
    },
    {
      "cell_type": "code",
      "source": [
        "nums = [1,1,1,1,1,1,2]\n",
        "j = 1\n",
        "for i in range(1, len(nums)):\n",
        "    if nums[i] != nums[i - 1]:\n",
        "        nums[j] = nums[i]\n",
        "        j += 1\n",
        "print(nums,j)"
      ],
      "metadata": {
        "colab": {
          "base_uri": "https://localhost:8080/"
        },
        "id": "j5yBPDwmfifE",
        "outputId": "8f2ffc82-6ae4-40a1-a6cd-cb955bf7850a"
      },
      "execution_count": null,
      "outputs": [
        {
          "output_type": "stream",
          "name": "stdout",
          "text": [
            "[1, 2, 1, 1, 1, 1, 2] 2\n"
          ]
        }
      ]
    }
  ]
}